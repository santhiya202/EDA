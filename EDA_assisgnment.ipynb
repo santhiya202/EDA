{
  "nbformat": 4,
  "nbformat_minor": 0,
  "metadata": {
    "colab": {
      "provenance": [],
      "collapsed_sections": [],
      "include_colab_link": true
    },
    "kernelspec": {
      "name": "python3",
      "display_name": "Python 3"
    },
    "language_info": {
      "name": "python"
    }
  },
  "cells": [
    {
      "cell_type": "markdown",
      "metadata": {
        "id": "view-in-github",
        "colab_type": "text"
      },
      "source": [
        "<a href=\"https://colab.research.google.com/github/santhiya202/EDA/blob/main/EDA_assisgnment.ipynb\" target=\"_parent\"><img src=\"https://colab.research.google.com/assets/colab-badge.svg\" alt=\"Open In Colab\"/></a>"
      ]
    },
    {
      "cell_type": "code",
      "execution_count": null,
      "metadata": {
        "id": "18-wL6mmi46s"
      },
      "outputs": [],
      "source": [
        "\n",
        "import numpy as np\n",
        "import pandas as pd \n",
        "import seaborn as sb\n",
        "import matplotlib.pyplot as plt"
      ]
    },
    {
      "cell_type": "code",
      "source": [
        "df=pd.read_csv(\"International_Report_Passengers.csv\")"
      ],
      "metadata": {
        "id": "h0A4_G8pABvF"
      },
      "execution_count": null,
      "outputs": []
    },
    {
      "cell_type": "code",
      "source": [
        "df.head()"
      ],
      "metadata": {
        "colab": {
          "base_uri": "https://localhost:8080/",
          "height": 270
        },
        "id": "Bv4yeRo3AYvP",
        "outputId": "68564a8e-62b8-450c-d821-8aa9f88d0770"
      },
      "execution_count": null,
      "outputs": [
        {
          "output_type": "execute_result",
          "data": {
            "text/plain": [
              "     data_dte  Year  Month  usg_apt_id usg_apt  usg_wac  fg_apt_id fg_apt  \\\n",
              "0  05/01/2014  2014      5       14492     RDU       36      11032    CUN   \n",
              "1  06/01/2007  2007      6       13204     MCO       33      16085    YHZ   \n",
              "2  12/01/2005  2005     12       11433     DTW       43      10411    AUA   \n",
              "3  04/01/2003  2003      4       13487     MSP       63      16304    ZIH   \n",
              "4  12/01/2005  2005     12       12016     GUM        5      11138    CRK   \n",
              "\n",
              "   fg_wac  airlineid carrier  carriergroup        type  Scheduled  Charter  \\\n",
              "0     148      19534      AM             0  Passengers          0    315.0   \n",
              "1     951      20364      C6             0  Passengers          0    683.0   \n",
              "2     277      20344      RD             1  Passengers          0   1010.0   \n",
              "3     148      20204      MG             1  Passengers          0    508.0   \n",
              "4     766      20312      TZ             1  Passengers          0     76.0   \n",
              "\n",
              "    Total  \n",
              "0   315.0  \n",
              "1   683.0  \n",
              "2  1010.0  \n",
              "3   508.0  \n",
              "4    76.0  "
            ],
            "text/html": [
              "\n",
              "  <div id=\"df-089f3756-899a-4ce3-905f-d5dc3f225af3\">\n",
              "    <div class=\"colab-df-container\">\n",
              "      <div>\n",
              "<style scoped>\n",
              "    .dataframe tbody tr th:only-of-type {\n",
              "        vertical-align: middle;\n",
              "    }\n",
              "\n",
              "    .dataframe tbody tr th {\n",
              "        vertical-align: top;\n",
              "    }\n",
              "\n",
              "    .dataframe thead th {\n",
              "        text-align: right;\n",
              "    }\n",
              "</style>\n",
              "<table border=\"1\" class=\"dataframe\">\n",
              "  <thead>\n",
              "    <tr style=\"text-align: right;\">\n",
              "      <th></th>\n",
              "      <th>data_dte</th>\n",
              "      <th>Year</th>\n",
              "      <th>Month</th>\n",
              "      <th>usg_apt_id</th>\n",
              "      <th>usg_apt</th>\n",
              "      <th>usg_wac</th>\n",
              "      <th>fg_apt_id</th>\n",
              "      <th>fg_apt</th>\n",
              "      <th>fg_wac</th>\n",
              "      <th>airlineid</th>\n",
              "      <th>carrier</th>\n",
              "      <th>carriergroup</th>\n",
              "      <th>type</th>\n",
              "      <th>Scheduled</th>\n",
              "      <th>Charter</th>\n",
              "      <th>Total</th>\n",
              "    </tr>\n",
              "  </thead>\n",
              "  <tbody>\n",
              "    <tr>\n",
              "      <th>0</th>\n",
              "      <td>05/01/2014</td>\n",
              "      <td>2014</td>\n",
              "      <td>5</td>\n",
              "      <td>14492</td>\n",
              "      <td>RDU</td>\n",
              "      <td>36</td>\n",
              "      <td>11032</td>\n",
              "      <td>CUN</td>\n",
              "      <td>148</td>\n",
              "      <td>19534</td>\n",
              "      <td>AM</td>\n",
              "      <td>0</td>\n",
              "      <td>Passengers</td>\n",
              "      <td>0</td>\n",
              "      <td>315.0</td>\n",
              "      <td>315.0</td>\n",
              "    </tr>\n",
              "    <tr>\n",
              "      <th>1</th>\n",
              "      <td>06/01/2007</td>\n",
              "      <td>2007</td>\n",
              "      <td>6</td>\n",
              "      <td>13204</td>\n",
              "      <td>MCO</td>\n",
              "      <td>33</td>\n",
              "      <td>16085</td>\n",
              "      <td>YHZ</td>\n",
              "      <td>951</td>\n",
              "      <td>20364</td>\n",
              "      <td>C6</td>\n",
              "      <td>0</td>\n",
              "      <td>Passengers</td>\n",
              "      <td>0</td>\n",
              "      <td>683.0</td>\n",
              "      <td>683.0</td>\n",
              "    </tr>\n",
              "    <tr>\n",
              "      <th>2</th>\n",
              "      <td>12/01/2005</td>\n",
              "      <td>2005</td>\n",
              "      <td>12</td>\n",
              "      <td>11433</td>\n",
              "      <td>DTW</td>\n",
              "      <td>43</td>\n",
              "      <td>10411</td>\n",
              "      <td>AUA</td>\n",
              "      <td>277</td>\n",
              "      <td>20344</td>\n",
              "      <td>RD</td>\n",
              "      <td>1</td>\n",
              "      <td>Passengers</td>\n",
              "      <td>0</td>\n",
              "      <td>1010.0</td>\n",
              "      <td>1010.0</td>\n",
              "    </tr>\n",
              "    <tr>\n",
              "      <th>3</th>\n",
              "      <td>04/01/2003</td>\n",
              "      <td>2003</td>\n",
              "      <td>4</td>\n",
              "      <td>13487</td>\n",
              "      <td>MSP</td>\n",
              "      <td>63</td>\n",
              "      <td>16304</td>\n",
              "      <td>ZIH</td>\n",
              "      <td>148</td>\n",
              "      <td>20204</td>\n",
              "      <td>MG</td>\n",
              "      <td>1</td>\n",
              "      <td>Passengers</td>\n",
              "      <td>0</td>\n",
              "      <td>508.0</td>\n",
              "      <td>508.0</td>\n",
              "    </tr>\n",
              "    <tr>\n",
              "      <th>4</th>\n",
              "      <td>12/01/2005</td>\n",
              "      <td>2005</td>\n",
              "      <td>12</td>\n",
              "      <td>12016</td>\n",
              "      <td>GUM</td>\n",
              "      <td>5</td>\n",
              "      <td>11138</td>\n",
              "      <td>CRK</td>\n",
              "      <td>766</td>\n",
              "      <td>20312</td>\n",
              "      <td>TZ</td>\n",
              "      <td>1</td>\n",
              "      <td>Passengers</td>\n",
              "      <td>0</td>\n",
              "      <td>76.0</td>\n",
              "      <td>76.0</td>\n",
              "    </tr>\n",
              "  </tbody>\n",
              "</table>\n",
              "</div>\n",
              "      <button class=\"colab-df-convert\" onclick=\"convertToInteractive('df-089f3756-899a-4ce3-905f-d5dc3f225af3')\"\n",
              "              title=\"Convert this dataframe to an interactive table.\"\n",
              "              style=\"display:none;\">\n",
              "        \n",
              "  <svg xmlns=\"http://www.w3.org/2000/svg\" height=\"24px\"viewBox=\"0 0 24 24\"\n",
              "       width=\"24px\">\n",
              "    <path d=\"M0 0h24v24H0V0z\" fill=\"none\"/>\n",
              "    <path d=\"M18.56 5.44l.94 2.06.94-2.06 2.06-.94-2.06-.94-.94-2.06-.94 2.06-2.06.94zm-11 1L8.5 8.5l.94-2.06 2.06-.94-2.06-.94L8.5 2.5l-.94 2.06-2.06.94zm10 10l.94 2.06.94-2.06 2.06-.94-2.06-.94-.94-2.06-.94 2.06-2.06.94z\"/><path d=\"M17.41 7.96l-1.37-1.37c-.4-.4-.92-.59-1.43-.59-.52 0-1.04.2-1.43.59L10.3 9.45l-7.72 7.72c-.78.78-.78 2.05 0 2.83L4 21.41c.39.39.9.59 1.41.59.51 0 1.02-.2 1.41-.59l7.78-7.78 2.81-2.81c.8-.78.8-2.07 0-2.86zM5.41 20L4 18.59l7.72-7.72 1.47 1.35L5.41 20z\"/>\n",
              "  </svg>\n",
              "      </button>\n",
              "      \n",
              "  <style>\n",
              "    .colab-df-container {\n",
              "      display:flex;\n",
              "      flex-wrap:wrap;\n",
              "      gap: 12px;\n",
              "    }\n",
              "\n",
              "    .colab-df-convert {\n",
              "      background-color: #E8F0FE;\n",
              "      border: none;\n",
              "      border-radius: 50%;\n",
              "      cursor: pointer;\n",
              "      display: none;\n",
              "      fill: #1967D2;\n",
              "      height: 32px;\n",
              "      padding: 0 0 0 0;\n",
              "      width: 32px;\n",
              "    }\n",
              "\n",
              "    .colab-df-convert:hover {\n",
              "      background-color: #E2EBFA;\n",
              "      box-shadow: 0px 1px 2px rgba(60, 64, 67, 0.3), 0px 1px 3px 1px rgba(60, 64, 67, 0.15);\n",
              "      fill: #174EA6;\n",
              "    }\n",
              "\n",
              "    [theme=dark] .colab-df-convert {\n",
              "      background-color: #3B4455;\n",
              "      fill: #D2E3FC;\n",
              "    }\n",
              "\n",
              "    [theme=dark] .colab-df-convert:hover {\n",
              "      background-color: #434B5C;\n",
              "      box-shadow: 0px 1px 3px 1px rgba(0, 0, 0, 0.15);\n",
              "      filter: drop-shadow(0px 1px 2px rgba(0, 0, 0, 0.3));\n",
              "      fill: #FFFFFF;\n",
              "    }\n",
              "  </style>\n",
              "\n",
              "      <script>\n",
              "        const buttonEl =\n",
              "          document.querySelector('#df-089f3756-899a-4ce3-905f-d5dc3f225af3 button.colab-df-convert');\n",
              "        buttonEl.style.display =\n",
              "          google.colab.kernel.accessAllowed ? 'block' : 'none';\n",
              "\n",
              "        async function convertToInteractive(key) {\n",
              "          const element = document.querySelector('#df-089f3756-899a-4ce3-905f-d5dc3f225af3');\n",
              "          const dataTable =\n",
              "            await google.colab.kernel.invokeFunction('convertToInteractive',\n",
              "                                                     [key], {});\n",
              "          if (!dataTable) return;\n",
              "\n",
              "          const docLinkHtml = 'Like what you see? Visit the ' +\n",
              "            '<a target=\"_blank\" href=https://colab.research.google.com/notebooks/data_table.ipynb>data table notebook</a>'\n",
              "            + ' to learn more about interactive tables.';\n",
              "          element.innerHTML = '';\n",
              "          dataTable['output_type'] = 'display_data';\n",
              "          await google.colab.output.renderOutput(dataTable, element);\n",
              "          const docLink = document.createElement('div');\n",
              "          docLink.innerHTML = docLinkHtml;\n",
              "          element.appendChild(docLink);\n",
              "        }\n",
              "      </script>\n",
              "    </div>\n",
              "  </div>\n",
              "  "
            ]
          },
          "metadata": {},
          "execution_count": 11
        }
      ]
    },
    {
      "cell_type": "code",
      "source": [
        "df.tail()"
      ],
      "metadata": {
        "colab": {
          "base_uri": "https://localhost:8080/",
          "height": 270
        },
        "id": "EAphEJXIAfQ2",
        "outputId": "de60d600-75b9-4e3d-ea2e-3ab22a03b7ee"
      },
      "execution_count": null,
      "outputs": [
        {
          "output_type": "execute_result",
          "data": {
            "text/plain": [
              "          data_dte  Year  Month  usg_apt_id usg_apt  usg_wac  fg_apt_id  \\\n",
              "626201  03/01/2010  2010      3       14771     SFO       91      16271   \n",
              "626202  01/01/2008  2008      1       14771     SFO       91      12277   \n",
              "626203  10/01/2011  2011     10       11057     CLT       36      11032   \n",
              "626204  02/01/2004  2004      2       11433     DTW       43      12699   \n",
              "626205  05/01/1999  1999      5       14771     SFO       91      11874   \n",
              "\n",
              "       fg_apt  fg_wac  airlineid carrier  carriergroup        type  Scheduled  \\\n",
              "626201    YYZ     936      19531      AC             0  Passengers      18142   \n",
              "626202    ICN     778      20277      OZ             0  Passengers      18142   \n",
              "626203    CUN     148      20355      US             1  Passengers      18142   \n",
              "626204    KIX     736      19386      NW             1  Passengers      18142   \n",
              "626205    GDL     148      19559      MX             0  Passengers        181   \n",
              "\n",
              "        Charter    Total  \n",
              "626201      0.0  18142.0  \n",
              "626202      0.0  18142.0  \n",
              "626203      0.0  18142.0  \n",
              "626204      0.0  18142.0  \n",
              "626205      NaN      NaN  "
            ],
            "text/html": [
              "\n",
              "  <div id=\"df-32c7f703-aa2d-40bd-9d9d-4015e5898136\">\n",
              "    <div class=\"colab-df-container\">\n",
              "      <div>\n",
              "<style scoped>\n",
              "    .dataframe tbody tr th:only-of-type {\n",
              "        vertical-align: middle;\n",
              "    }\n",
              "\n",
              "    .dataframe tbody tr th {\n",
              "        vertical-align: top;\n",
              "    }\n",
              "\n",
              "    .dataframe thead th {\n",
              "        text-align: right;\n",
              "    }\n",
              "</style>\n",
              "<table border=\"1\" class=\"dataframe\">\n",
              "  <thead>\n",
              "    <tr style=\"text-align: right;\">\n",
              "      <th></th>\n",
              "      <th>data_dte</th>\n",
              "      <th>Year</th>\n",
              "      <th>Month</th>\n",
              "      <th>usg_apt_id</th>\n",
              "      <th>usg_apt</th>\n",
              "      <th>usg_wac</th>\n",
              "      <th>fg_apt_id</th>\n",
              "      <th>fg_apt</th>\n",
              "      <th>fg_wac</th>\n",
              "      <th>airlineid</th>\n",
              "      <th>carrier</th>\n",
              "      <th>carriergroup</th>\n",
              "      <th>type</th>\n",
              "      <th>Scheduled</th>\n",
              "      <th>Charter</th>\n",
              "      <th>Total</th>\n",
              "    </tr>\n",
              "  </thead>\n",
              "  <tbody>\n",
              "    <tr>\n",
              "      <th>626201</th>\n",
              "      <td>03/01/2010</td>\n",
              "      <td>2010</td>\n",
              "      <td>3</td>\n",
              "      <td>14771</td>\n",
              "      <td>SFO</td>\n",
              "      <td>91</td>\n",
              "      <td>16271</td>\n",
              "      <td>YYZ</td>\n",
              "      <td>936</td>\n",
              "      <td>19531</td>\n",
              "      <td>AC</td>\n",
              "      <td>0</td>\n",
              "      <td>Passengers</td>\n",
              "      <td>18142</td>\n",
              "      <td>0.0</td>\n",
              "      <td>18142.0</td>\n",
              "    </tr>\n",
              "    <tr>\n",
              "      <th>626202</th>\n",
              "      <td>01/01/2008</td>\n",
              "      <td>2008</td>\n",
              "      <td>1</td>\n",
              "      <td>14771</td>\n",
              "      <td>SFO</td>\n",
              "      <td>91</td>\n",
              "      <td>12277</td>\n",
              "      <td>ICN</td>\n",
              "      <td>778</td>\n",
              "      <td>20277</td>\n",
              "      <td>OZ</td>\n",
              "      <td>0</td>\n",
              "      <td>Passengers</td>\n",
              "      <td>18142</td>\n",
              "      <td>0.0</td>\n",
              "      <td>18142.0</td>\n",
              "    </tr>\n",
              "    <tr>\n",
              "      <th>626203</th>\n",
              "      <td>10/01/2011</td>\n",
              "      <td>2011</td>\n",
              "      <td>10</td>\n",
              "      <td>11057</td>\n",
              "      <td>CLT</td>\n",
              "      <td>36</td>\n",
              "      <td>11032</td>\n",
              "      <td>CUN</td>\n",
              "      <td>148</td>\n",
              "      <td>20355</td>\n",
              "      <td>US</td>\n",
              "      <td>1</td>\n",
              "      <td>Passengers</td>\n",
              "      <td>18142</td>\n",
              "      <td>0.0</td>\n",
              "      <td>18142.0</td>\n",
              "    </tr>\n",
              "    <tr>\n",
              "      <th>626204</th>\n",
              "      <td>02/01/2004</td>\n",
              "      <td>2004</td>\n",
              "      <td>2</td>\n",
              "      <td>11433</td>\n",
              "      <td>DTW</td>\n",
              "      <td>43</td>\n",
              "      <td>12699</td>\n",
              "      <td>KIX</td>\n",
              "      <td>736</td>\n",
              "      <td>19386</td>\n",
              "      <td>NW</td>\n",
              "      <td>1</td>\n",
              "      <td>Passengers</td>\n",
              "      <td>18142</td>\n",
              "      <td>0.0</td>\n",
              "      <td>18142.0</td>\n",
              "    </tr>\n",
              "    <tr>\n",
              "      <th>626205</th>\n",
              "      <td>05/01/1999</td>\n",
              "      <td>1999</td>\n",
              "      <td>5</td>\n",
              "      <td>14771</td>\n",
              "      <td>SFO</td>\n",
              "      <td>91</td>\n",
              "      <td>11874</td>\n",
              "      <td>GDL</td>\n",
              "      <td>148</td>\n",
              "      <td>19559</td>\n",
              "      <td>MX</td>\n",
              "      <td>0</td>\n",
              "      <td>Passengers</td>\n",
              "      <td>181</td>\n",
              "      <td>NaN</td>\n",
              "      <td>NaN</td>\n",
              "    </tr>\n",
              "  </tbody>\n",
              "</table>\n",
              "</div>\n",
              "      <button class=\"colab-df-convert\" onclick=\"convertToInteractive('df-32c7f703-aa2d-40bd-9d9d-4015e5898136')\"\n",
              "              title=\"Convert this dataframe to an interactive table.\"\n",
              "              style=\"display:none;\">\n",
              "        \n",
              "  <svg xmlns=\"http://www.w3.org/2000/svg\" height=\"24px\"viewBox=\"0 0 24 24\"\n",
              "       width=\"24px\">\n",
              "    <path d=\"M0 0h24v24H0V0z\" fill=\"none\"/>\n",
              "    <path d=\"M18.56 5.44l.94 2.06.94-2.06 2.06-.94-2.06-.94-.94-2.06-.94 2.06-2.06.94zm-11 1L8.5 8.5l.94-2.06 2.06-.94-2.06-.94L8.5 2.5l-.94 2.06-2.06.94zm10 10l.94 2.06.94-2.06 2.06-.94-2.06-.94-.94-2.06-.94 2.06-2.06.94z\"/><path d=\"M17.41 7.96l-1.37-1.37c-.4-.4-.92-.59-1.43-.59-.52 0-1.04.2-1.43.59L10.3 9.45l-7.72 7.72c-.78.78-.78 2.05 0 2.83L4 21.41c.39.39.9.59 1.41.59.51 0 1.02-.2 1.41-.59l7.78-7.78 2.81-2.81c.8-.78.8-2.07 0-2.86zM5.41 20L4 18.59l7.72-7.72 1.47 1.35L5.41 20z\"/>\n",
              "  </svg>\n",
              "      </button>\n",
              "      \n",
              "  <style>\n",
              "    .colab-df-container {\n",
              "      display:flex;\n",
              "      flex-wrap:wrap;\n",
              "      gap: 12px;\n",
              "    }\n",
              "\n",
              "    .colab-df-convert {\n",
              "      background-color: #E8F0FE;\n",
              "      border: none;\n",
              "      border-radius: 50%;\n",
              "      cursor: pointer;\n",
              "      display: none;\n",
              "      fill: #1967D2;\n",
              "      height: 32px;\n",
              "      padding: 0 0 0 0;\n",
              "      width: 32px;\n",
              "    }\n",
              "\n",
              "    .colab-df-convert:hover {\n",
              "      background-color: #E2EBFA;\n",
              "      box-shadow: 0px 1px 2px rgba(60, 64, 67, 0.3), 0px 1px 3px 1px rgba(60, 64, 67, 0.15);\n",
              "      fill: #174EA6;\n",
              "    }\n",
              "\n",
              "    [theme=dark] .colab-df-convert {\n",
              "      background-color: #3B4455;\n",
              "      fill: #D2E3FC;\n",
              "    }\n",
              "\n",
              "    [theme=dark] .colab-df-convert:hover {\n",
              "      background-color: #434B5C;\n",
              "      box-shadow: 0px 1px 3px 1px rgba(0, 0, 0, 0.15);\n",
              "      filter: drop-shadow(0px 1px 2px rgba(0, 0, 0, 0.3));\n",
              "      fill: #FFFFFF;\n",
              "    }\n",
              "  </style>\n",
              "\n",
              "      <script>\n",
              "        const buttonEl =\n",
              "          document.querySelector('#df-32c7f703-aa2d-40bd-9d9d-4015e5898136 button.colab-df-convert');\n",
              "        buttonEl.style.display =\n",
              "          google.colab.kernel.accessAllowed ? 'block' : 'none';\n",
              "\n",
              "        async function convertToInteractive(key) {\n",
              "          const element = document.querySelector('#df-32c7f703-aa2d-40bd-9d9d-4015e5898136');\n",
              "          const dataTable =\n",
              "            await google.colab.kernel.invokeFunction('convertToInteractive',\n",
              "                                                     [key], {});\n",
              "          if (!dataTable) return;\n",
              "\n",
              "          const docLinkHtml = 'Like what you see? Visit the ' +\n",
              "            '<a target=\"_blank\" href=https://colab.research.google.com/notebooks/data_table.ipynb>data table notebook</a>'\n",
              "            + ' to learn more about interactive tables.';\n",
              "          element.innerHTML = '';\n",
              "          dataTable['output_type'] = 'display_data';\n",
              "          await google.colab.output.renderOutput(dataTable, element);\n",
              "          const docLink = document.createElement('div');\n",
              "          docLink.innerHTML = docLinkHtml;\n",
              "          element.appendChild(docLink);\n",
              "        }\n",
              "      </script>\n",
              "    </div>\n",
              "  </div>\n",
              "  "
            ]
          },
          "metadata": {},
          "execution_count": 12
        }
      ]
    },
    {
      "cell_type": "code",
      "source": [
        "df.describe()"
      ],
      "metadata": {
        "colab": {
          "base_uri": "https://localhost:8080/",
          "height": 364
        },
        "id": "xG0kD4fIAjXe",
        "outputId": "31fbbc06-694d-4cb2-e9a5-4dd75538c2e0"
      },
      "execution_count": null,
      "outputs": [
        {
          "output_type": "execute_result",
          "data": {
            "text/plain": [
              "                Year          Month     usg_apt_id        usg_wac  \\\n",
              "count  626206.000000  626206.000000  626206.000000  626206.000000   \n",
              "mean     2006.023438       6.348232   12779.354058      44.164585   \n",
              "std         8.728124       3.483893    2597.815026      27.927539   \n",
              "min      1990.000000       1.000000   10010.000000       1.000000   \n",
              "25%      1999.000000       3.000000   11618.000000      22.000000   \n",
              "50%      2007.000000       6.000000   12889.000000      33.000000   \n",
              "75%      2014.000000       9.000000   13898.000000      74.000000   \n",
              "max      2020.000000      12.000000   99999.000000      93.000000   \n",
              "\n",
              "           fg_apt_id         fg_wac      airlineid   carriergroup  \\\n",
              "count  626206.000000  626206.000000  626206.000000  626206.000000   \n",
              "mean    13515.999248     463.210736   20051.057783       0.570440   \n",
              "std      1974.067042     295.824305     515.333726       0.495014   \n",
              "min     10125.000000     106.000000   19386.000000       0.000000   \n",
              "25%     11760.000000     204.000000   19687.000000       0.000000   \n",
              "50%     13514.000000     427.000000   19958.000000       1.000000   \n",
              "75%     15174.000000     736.000000   20351.000000       1.000000   \n",
              "max     16881.000000     975.000000   22067.000000       1.000000   \n",
              "\n",
              "           Scheduled        Charter          Total  \n",
              "count  626206.000000  626205.000000  626205.000000  \n",
              "mean     4569.686284     213.298223    4782.991516  \n",
              "std      4953.856958     990.249449    4860.650329  \n",
              "min         0.000000       0.000000       1.000000  \n",
              "25%        93.000000       0.000000     476.000000  \n",
              "50%      2719.000000       0.000000    3026.000000  \n",
              "75%      7976.000000       0.000000    8058.000000  \n",
              "max     18142.000000   44529.000000   44529.000000  "
            ],
            "text/html": [
              "\n",
              "  <div id=\"df-dc41dada-d95d-43f6-9aaf-e5792f3c9e4d\">\n",
              "    <div class=\"colab-df-container\">\n",
              "      <div>\n",
              "<style scoped>\n",
              "    .dataframe tbody tr th:only-of-type {\n",
              "        vertical-align: middle;\n",
              "    }\n",
              "\n",
              "    .dataframe tbody tr th {\n",
              "        vertical-align: top;\n",
              "    }\n",
              "\n",
              "    .dataframe thead th {\n",
              "        text-align: right;\n",
              "    }\n",
              "</style>\n",
              "<table border=\"1\" class=\"dataframe\">\n",
              "  <thead>\n",
              "    <tr style=\"text-align: right;\">\n",
              "      <th></th>\n",
              "      <th>Year</th>\n",
              "      <th>Month</th>\n",
              "      <th>usg_apt_id</th>\n",
              "      <th>usg_wac</th>\n",
              "      <th>fg_apt_id</th>\n",
              "      <th>fg_wac</th>\n",
              "      <th>airlineid</th>\n",
              "      <th>carriergroup</th>\n",
              "      <th>Scheduled</th>\n",
              "      <th>Charter</th>\n",
              "      <th>Total</th>\n",
              "    </tr>\n",
              "  </thead>\n",
              "  <tbody>\n",
              "    <tr>\n",
              "      <th>count</th>\n",
              "      <td>626206.000000</td>\n",
              "      <td>626206.000000</td>\n",
              "      <td>626206.000000</td>\n",
              "      <td>626206.000000</td>\n",
              "      <td>626206.000000</td>\n",
              "      <td>626206.000000</td>\n",
              "      <td>626206.000000</td>\n",
              "      <td>626206.000000</td>\n",
              "      <td>626206.000000</td>\n",
              "      <td>626205.000000</td>\n",
              "      <td>626205.000000</td>\n",
              "    </tr>\n",
              "    <tr>\n",
              "      <th>mean</th>\n",
              "      <td>2006.023438</td>\n",
              "      <td>6.348232</td>\n",
              "      <td>12779.354058</td>\n",
              "      <td>44.164585</td>\n",
              "      <td>13515.999248</td>\n",
              "      <td>463.210736</td>\n",
              "      <td>20051.057783</td>\n",
              "      <td>0.570440</td>\n",
              "      <td>4569.686284</td>\n",
              "      <td>213.298223</td>\n",
              "      <td>4782.991516</td>\n",
              "    </tr>\n",
              "    <tr>\n",
              "      <th>std</th>\n",
              "      <td>8.728124</td>\n",
              "      <td>3.483893</td>\n",
              "      <td>2597.815026</td>\n",
              "      <td>27.927539</td>\n",
              "      <td>1974.067042</td>\n",
              "      <td>295.824305</td>\n",
              "      <td>515.333726</td>\n",
              "      <td>0.495014</td>\n",
              "      <td>4953.856958</td>\n",
              "      <td>990.249449</td>\n",
              "      <td>4860.650329</td>\n",
              "    </tr>\n",
              "    <tr>\n",
              "      <th>min</th>\n",
              "      <td>1990.000000</td>\n",
              "      <td>1.000000</td>\n",
              "      <td>10010.000000</td>\n",
              "      <td>1.000000</td>\n",
              "      <td>10125.000000</td>\n",
              "      <td>106.000000</td>\n",
              "      <td>19386.000000</td>\n",
              "      <td>0.000000</td>\n",
              "      <td>0.000000</td>\n",
              "      <td>0.000000</td>\n",
              "      <td>1.000000</td>\n",
              "    </tr>\n",
              "    <tr>\n",
              "      <th>25%</th>\n",
              "      <td>1999.000000</td>\n",
              "      <td>3.000000</td>\n",
              "      <td>11618.000000</td>\n",
              "      <td>22.000000</td>\n",
              "      <td>11760.000000</td>\n",
              "      <td>204.000000</td>\n",
              "      <td>19687.000000</td>\n",
              "      <td>0.000000</td>\n",
              "      <td>93.000000</td>\n",
              "      <td>0.000000</td>\n",
              "      <td>476.000000</td>\n",
              "    </tr>\n",
              "    <tr>\n",
              "      <th>50%</th>\n",
              "      <td>2007.000000</td>\n",
              "      <td>6.000000</td>\n",
              "      <td>12889.000000</td>\n",
              "      <td>33.000000</td>\n",
              "      <td>13514.000000</td>\n",
              "      <td>427.000000</td>\n",
              "      <td>19958.000000</td>\n",
              "      <td>1.000000</td>\n",
              "      <td>2719.000000</td>\n",
              "      <td>0.000000</td>\n",
              "      <td>3026.000000</td>\n",
              "    </tr>\n",
              "    <tr>\n",
              "      <th>75%</th>\n",
              "      <td>2014.000000</td>\n",
              "      <td>9.000000</td>\n",
              "      <td>13898.000000</td>\n",
              "      <td>74.000000</td>\n",
              "      <td>15174.000000</td>\n",
              "      <td>736.000000</td>\n",
              "      <td>20351.000000</td>\n",
              "      <td>1.000000</td>\n",
              "      <td>7976.000000</td>\n",
              "      <td>0.000000</td>\n",
              "      <td>8058.000000</td>\n",
              "    </tr>\n",
              "    <tr>\n",
              "      <th>max</th>\n",
              "      <td>2020.000000</td>\n",
              "      <td>12.000000</td>\n",
              "      <td>99999.000000</td>\n",
              "      <td>93.000000</td>\n",
              "      <td>16881.000000</td>\n",
              "      <td>975.000000</td>\n",
              "      <td>22067.000000</td>\n",
              "      <td>1.000000</td>\n",
              "      <td>18142.000000</td>\n",
              "      <td>44529.000000</td>\n",
              "      <td>44529.000000</td>\n",
              "    </tr>\n",
              "  </tbody>\n",
              "</table>\n",
              "</div>\n",
              "      <button class=\"colab-df-convert\" onclick=\"convertToInteractive('df-dc41dada-d95d-43f6-9aaf-e5792f3c9e4d')\"\n",
              "              title=\"Convert this dataframe to an interactive table.\"\n",
              "              style=\"display:none;\">\n",
              "        \n",
              "  <svg xmlns=\"http://www.w3.org/2000/svg\" height=\"24px\"viewBox=\"0 0 24 24\"\n",
              "       width=\"24px\">\n",
              "    <path d=\"M0 0h24v24H0V0z\" fill=\"none\"/>\n",
              "    <path d=\"M18.56 5.44l.94 2.06.94-2.06 2.06-.94-2.06-.94-.94-2.06-.94 2.06-2.06.94zm-11 1L8.5 8.5l.94-2.06 2.06-.94-2.06-.94L8.5 2.5l-.94 2.06-2.06.94zm10 10l.94 2.06.94-2.06 2.06-.94-2.06-.94-.94-2.06-.94 2.06-2.06.94z\"/><path d=\"M17.41 7.96l-1.37-1.37c-.4-.4-.92-.59-1.43-.59-.52 0-1.04.2-1.43.59L10.3 9.45l-7.72 7.72c-.78.78-.78 2.05 0 2.83L4 21.41c.39.39.9.59 1.41.59.51 0 1.02-.2 1.41-.59l7.78-7.78 2.81-2.81c.8-.78.8-2.07 0-2.86zM5.41 20L4 18.59l7.72-7.72 1.47 1.35L5.41 20z\"/>\n",
              "  </svg>\n",
              "      </button>\n",
              "      \n",
              "  <style>\n",
              "    .colab-df-container {\n",
              "      display:flex;\n",
              "      flex-wrap:wrap;\n",
              "      gap: 12px;\n",
              "    }\n",
              "\n",
              "    .colab-df-convert {\n",
              "      background-color: #E8F0FE;\n",
              "      border: none;\n",
              "      border-radius: 50%;\n",
              "      cursor: pointer;\n",
              "      display: none;\n",
              "      fill: #1967D2;\n",
              "      height: 32px;\n",
              "      padding: 0 0 0 0;\n",
              "      width: 32px;\n",
              "    }\n",
              "\n",
              "    .colab-df-convert:hover {\n",
              "      background-color: #E2EBFA;\n",
              "      box-shadow: 0px 1px 2px rgba(60, 64, 67, 0.3), 0px 1px 3px 1px rgba(60, 64, 67, 0.15);\n",
              "      fill: #174EA6;\n",
              "    }\n",
              "\n",
              "    [theme=dark] .colab-df-convert {\n",
              "      background-color: #3B4455;\n",
              "      fill: #D2E3FC;\n",
              "    }\n",
              "\n",
              "    [theme=dark] .colab-df-convert:hover {\n",
              "      background-color: #434B5C;\n",
              "      box-shadow: 0px 1px 3px 1px rgba(0, 0, 0, 0.15);\n",
              "      filter: drop-shadow(0px 1px 2px rgba(0, 0, 0, 0.3));\n",
              "      fill: #FFFFFF;\n",
              "    }\n",
              "  </style>\n",
              "\n",
              "      <script>\n",
              "        const buttonEl =\n",
              "          document.querySelector('#df-dc41dada-d95d-43f6-9aaf-e5792f3c9e4d button.colab-df-convert');\n",
              "        buttonEl.style.display =\n",
              "          google.colab.kernel.accessAllowed ? 'block' : 'none';\n",
              "\n",
              "        async function convertToInteractive(key) {\n",
              "          const element = document.querySelector('#df-dc41dada-d95d-43f6-9aaf-e5792f3c9e4d');\n",
              "          const dataTable =\n",
              "            await google.colab.kernel.invokeFunction('convertToInteractive',\n",
              "                                                     [key], {});\n",
              "          if (!dataTable) return;\n",
              "\n",
              "          const docLinkHtml = 'Like what you see? Visit the ' +\n",
              "            '<a target=\"_blank\" href=https://colab.research.google.com/notebooks/data_table.ipynb>data table notebook</a>'\n",
              "            + ' to learn more about interactive tables.';\n",
              "          element.innerHTML = '';\n",
              "          dataTable['output_type'] = 'display_data';\n",
              "          await google.colab.output.renderOutput(dataTable, element);\n",
              "          const docLink = document.createElement('div');\n",
              "          docLink.innerHTML = docLinkHtml;\n",
              "          element.appendChild(docLink);\n",
              "        }\n",
              "      </script>\n",
              "    </div>\n",
              "  </div>\n",
              "  "
            ]
          },
          "metadata": {},
          "execution_count": 14
        }
      ]
    },
    {
      "cell_type": "code",
      "source": [
        "\n",
        "df.shape"
      ],
      "metadata": {
        "colab": {
          "base_uri": "https://localhost:8080/"
        },
        "id": "6LhFGbtoAspl",
        "outputId": "e35b3ea4-a0b9-4af6-ce21-634e7c4d2178"
      },
      "execution_count": null,
      "outputs": [
        {
          "output_type": "execute_result",
          "data": {
            "text/plain": [
              "(626206, 16)"
            ]
          },
          "metadata": {},
          "execution_count": 16
        }
      ]
    },
    {
      "cell_type": "code",
      "source": [
        "df.info()"
      ],
      "metadata": {
        "colab": {
          "base_uri": "https://localhost:8080/"
        },
        "id": "Pn5D9fA3AvDj",
        "outputId": "49cef2f4-3b4c-4735-8f64-ffca289235fd"
      },
      "execution_count": null,
      "outputs": [
        {
          "output_type": "stream",
          "name": "stdout",
          "text": [
            "<class 'pandas.core.frame.DataFrame'>\n",
            "RangeIndex: 626206 entries, 0 to 626205\n",
            "Data columns (total 16 columns):\n",
            " #   Column        Non-Null Count   Dtype  \n",
            "---  ------        --------------   -----  \n",
            " 0   data_dte      626206 non-null  object \n",
            " 1   Year          626206 non-null  int64  \n",
            " 2   Month         626206 non-null  int64  \n",
            " 3   usg_apt_id    626206 non-null  int64  \n",
            " 4   usg_apt       626206 non-null  object \n",
            " 5   usg_wac       626206 non-null  int64  \n",
            " 6   fg_apt_id     626206 non-null  int64  \n",
            " 7   fg_apt        626206 non-null  object \n",
            " 8   fg_wac        626206 non-null  int64  \n",
            " 9   airlineid     626206 non-null  int64  \n",
            " 10  carrier       623421 non-null  object \n",
            " 11  carriergroup  626206 non-null  int64  \n",
            " 12  type          626206 non-null  object \n",
            " 13  Scheduled     626206 non-null  int64  \n",
            " 14  Charter       626205 non-null  float64\n",
            " 15  Total         626205 non-null  float64\n",
            "dtypes: float64(2), int64(9), object(5)\n",
            "memory usage: 76.4+ MB\n"
          ]
        }
      ]
    },
    {
      "cell_type": "code",
      "source": [
        "df.head(1000)"
      ],
      "metadata": {
        "colab": {
          "base_uri": "https://localhost:8080/",
          "height": 488
        },
        "id": "5F8paeQmAxaZ",
        "outputId": "ff5a1553-bc6c-4318-ea7a-cd4f6e839d5d"
      },
      "execution_count": null,
      "outputs": [
        {
          "output_type": "execute_result",
          "data": {
            "text/plain": [
              "       data_dte  Year  Month  usg_apt_id usg_apt  usg_wac  fg_apt_id fg_apt  \\\n",
              "0    05/01/2014  2014      5       14492     RDU       36      11032    CUN   \n",
              "1    06/01/2007  2007      6       13204     MCO       33      16085    YHZ   \n",
              "2    12/01/2005  2005     12       11433     DTW       43      10411    AUA   \n",
              "3    04/01/2003  2003      4       13487     MSP       63      16304    ZIH   \n",
              "4    12/01/2005  2005     12       12016     GUM        5      11138    CRK   \n",
              "..          ...   ...    ...         ...     ...      ...        ...    ...   \n",
              "995  06/01/2003  2003      6       11423     DSM       61      16217    YUL   \n",
              "996  12/01/2006  2006     12       11433     DTW       43      16257    YYC   \n",
              "997  04/01/2005  2005      4       13495     MSY       72      11032    CUN   \n",
              "998  02/01/2001  2001      2       13930     ORD       41      13605    NAS   \n",
              "999  04/01/2001  2001      4       13303     MIA       33      14739    SDQ   \n",
              "\n",
              "     fg_wac  airlineid carrier  carriergroup        type  Scheduled  Charter  \\\n",
              "0       148      19534      AM             0  Passengers          0    315.0   \n",
              "1       951      20364      C6             0  Passengers          0    683.0   \n",
              "2       277      20344      RD             1  Passengers          0   1010.0   \n",
              "3       148      20204      MG             1  Passengers          0    508.0   \n",
              "4       766      20312      TZ             1  Passengers          0     76.0   \n",
              "..      ...        ...     ...           ...         ...        ...      ...   \n",
              "995     941      19531      AC             0  Passengers          0     52.0   \n",
              "996     916      20305     PCQ             1  Passengers          0     43.0   \n",
              "997     148      20402      GL             1  Passengers          0    160.0   \n",
              "998     204      20344     RYQ             1  Passengers          0   1207.0   \n",
              "999     224      20016     LGQ             0  Passengers          0   2844.0   \n",
              "\n",
              "      Total  \n",
              "0     315.0  \n",
              "1     683.0  \n",
              "2    1010.0  \n",
              "3     508.0  \n",
              "4      76.0  \n",
              "..      ...  \n",
              "995    52.0  \n",
              "996    43.0  \n",
              "997   160.0  \n",
              "998  1207.0  \n",
              "999  2844.0  \n",
              "\n",
              "[1000 rows x 16 columns]"
            ],
            "text/html": [
              "\n",
              "  <div id=\"df-41e46471-8be3-4619-a985-fc261bc0d10d\">\n",
              "    <div class=\"colab-df-container\">\n",
              "      <div>\n",
              "<style scoped>\n",
              "    .dataframe tbody tr th:only-of-type {\n",
              "        vertical-align: middle;\n",
              "    }\n",
              "\n",
              "    .dataframe tbody tr th {\n",
              "        vertical-align: top;\n",
              "    }\n",
              "\n",
              "    .dataframe thead th {\n",
              "        text-align: right;\n",
              "    }\n",
              "</style>\n",
              "<table border=\"1\" class=\"dataframe\">\n",
              "  <thead>\n",
              "    <tr style=\"text-align: right;\">\n",
              "      <th></th>\n",
              "      <th>data_dte</th>\n",
              "      <th>Year</th>\n",
              "      <th>Month</th>\n",
              "      <th>usg_apt_id</th>\n",
              "      <th>usg_apt</th>\n",
              "      <th>usg_wac</th>\n",
              "      <th>fg_apt_id</th>\n",
              "      <th>fg_apt</th>\n",
              "      <th>fg_wac</th>\n",
              "      <th>airlineid</th>\n",
              "      <th>carrier</th>\n",
              "      <th>carriergroup</th>\n",
              "      <th>type</th>\n",
              "      <th>Scheduled</th>\n",
              "      <th>Charter</th>\n",
              "      <th>Total</th>\n",
              "    </tr>\n",
              "  </thead>\n",
              "  <tbody>\n",
              "    <tr>\n",
              "      <th>0</th>\n",
              "      <td>05/01/2014</td>\n",
              "      <td>2014</td>\n",
              "      <td>5</td>\n",
              "      <td>14492</td>\n",
              "      <td>RDU</td>\n",
              "      <td>36</td>\n",
              "      <td>11032</td>\n",
              "      <td>CUN</td>\n",
              "      <td>148</td>\n",
              "      <td>19534</td>\n",
              "      <td>AM</td>\n",
              "      <td>0</td>\n",
              "      <td>Passengers</td>\n",
              "      <td>0</td>\n",
              "      <td>315.0</td>\n",
              "      <td>315.0</td>\n",
              "    </tr>\n",
              "    <tr>\n",
              "      <th>1</th>\n",
              "      <td>06/01/2007</td>\n",
              "      <td>2007</td>\n",
              "      <td>6</td>\n",
              "      <td>13204</td>\n",
              "      <td>MCO</td>\n",
              "      <td>33</td>\n",
              "      <td>16085</td>\n",
              "      <td>YHZ</td>\n",
              "      <td>951</td>\n",
              "      <td>20364</td>\n",
              "      <td>C6</td>\n",
              "      <td>0</td>\n",
              "      <td>Passengers</td>\n",
              "      <td>0</td>\n",
              "      <td>683.0</td>\n",
              "      <td>683.0</td>\n",
              "    </tr>\n",
              "    <tr>\n",
              "      <th>2</th>\n",
              "      <td>12/01/2005</td>\n",
              "      <td>2005</td>\n",
              "      <td>12</td>\n",
              "      <td>11433</td>\n",
              "      <td>DTW</td>\n",
              "      <td>43</td>\n",
              "      <td>10411</td>\n",
              "      <td>AUA</td>\n",
              "      <td>277</td>\n",
              "      <td>20344</td>\n",
              "      <td>RD</td>\n",
              "      <td>1</td>\n",
              "      <td>Passengers</td>\n",
              "      <td>0</td>\n",
              "      <td>1010.0</td>\n",
              "      <td>1010.0</td>\n",
              "    </tr>\n",
              "    <tr>\n",
              "      <th>3</th>\n",
              "      <td>04/01/2003</td>\n",
              "      <td>2003</td>\n",
              "      <td>4</td>\n",
              "      <td>13487</td>\n",
              "      <td>MSP</td>\n",
              "      <td>63</td>\n",
              "      <td>16304</td>\n",
              "      <td>ZIH</td>\n",
              "      <td>148</td>\n",
              "      <td>20204</td>\n",
              "      <td>MG</td>\n",
              "      <td>1</td>\n",
              "      <td>Passengers</td>\n",
              "      <td>0</td>\n",
              "      <td>508.0</td>\n",
              "      <td>508.0</td>\n",
              "    </tr>\n",
              "    <tr>\n",
              "      <th>4</th>\n",
              "      <td>12/01/2005</td>\n",
              "      <td>2005</td>\n",
              "      <td>12</td>\n",
              "      <td>12016</td>\n",
              "      <td>GUM</td>\n",
              "      <td>5</td>\n",
              "      <td>11138</td>\n",
              "      <td>CRK</td>\n",
              "      <td>766</td>\n",
              "      <td>20312</td>\n",
              "      <td>TZ</td>\n",
              "      <td>1</td>\n",
              "      <td>Passengers</td>\n",
              "      <td>0</td>\n",
              "      <td>76.0</td>\n",
              "      <td>76.0</td>\n",
              "    </tr>\n",
              "    <tr>\n",
              "      <th>...</th>\n",
              "      <td>...</td>\n",
              "      <td>...</td>\n",
              "      <td>...</td>\n",
              "      <td>...</td>\n",
              "      <td>...</td>\n",
              "      <td>...</td>\n",
              "      <td>...</td>\n",
              "      <td>...</td>\n",
              "      <td>...</td>\n",
              "      <td>...</td>\n",
              "      <td>...</td>\n",
              "      <td>...</td>\n",
              "      <td>...</td>\n",
              "      <td>...</td>\n",
              "      <td>...</td>\n",
              "      <td>...</td>\n",
              "    </tr>\n",
              "    <tr>\n",
              "      <th>995</th>\n",
              "      <td>06/01/2003</td>\n",
              "      <td>2003</td>\n",
              "      <td>6</td>\n",
              "      <td>11423</td>\n",
              "      <td>DSM</td>\n",
              "      <td>61</td>\n",
              "      <td>16217</td>\n",
              "      <td>YUL</td>\n",
              "      <td>941</td>\n",
              "      <td>19531</td>\n",
              "      <td>AC</td>\n",
              "      <td>0</td>\n",
              "      <td>Passengers</td>\n",
              "      <td>0</td>\n",
              "      <td>52.0</td>\n",
              "      <td>52.0</td>\n",
              "    </tr>\n",
              "    <tr>\n",
              "      <th>996</th>\n",
              "      <td>12/01/2006</td>\n",
              "      <td>2006</td>\n",
              "      <td>12</td>\n",
              "      <td>11433</td>\n",
              "      <td>DTW</td>\n",
              "      <td>43</td>\n",
              "      <td>16257</td>\n",
              "      <td>YYC</td>\n",
              "      <td>916</td>\n",
              "      <td>20305</td>\n",
              "      <td>PCQ</td>\n",
              "      <td>1</td>\n",
              "      <td>Passengers</td>\n",
              "      <td>0</td>\n",
              "      <td>43.0</td>\n",
              "      <td>43.0</td>\n",
              "    </tr>\n",
              "    <tr>\n",
              "      <th>997</th>\n",
              "      <td>04/01/2005</td>\n",
              "      <td>2005</td>\n",
              "      <td>4</td>\n",
              "      <td>13495</td>\n",
              "      <td>MSY</td>\n",
              "      <td>72</td>\n",
              "      <td>11032</td>\n",
              "      <td>CUN</td>\n",
              "      <td>148</td>\n",
              "      <td>20402</td>\n",
              "      <td>GL</td>\n",
              "      <td>1</td>\n",
              "      <td>Passengers</td>\n",
              "      <td>0</td>\n",
              "      <td>160.0</td>\n",
              "      <td>160.0</td>\n",
              "    </tr>\n",
              "    <tr>\n",
              "      <th>998</th>\n",
              "      <td>02/01/2001</td>\n",
              "      <td>2001</td>\n",
              "      <td>2</td>\n",
              "      <td>13930</td>\n",
              "      <td>ORD</td>\n",
              "      <td>41</td>\n",
              "      <td>13605</td>\n",
              "      <td>NAS</td>\n",
              "      <td>204</td>\n",
              "      <td>20344</td>\n",
              "      <td>RYQ</td>\n",
              "      <td>1</td>\n",
              "      <td>Passengers</td>\n",
              "      <td>0</td>\n",
              "      <td>1207.0</td>\n",
              "      <td>1207.0</td>\n",
              "    </tr>\n",
              "    <tr>\n",
              "      <th>999</th>\n",
              "      <td>04/01/2001</td>\n",
              "      <td>2001</td>\n",
              "      <td>4</td>\n",
              "      <td>13303</td>\n",
              "      <td>MIA</td>\n",
              "      <td>33</td>\n",
              "      <td>14739</td>\n",
              "      <td>SDQ</td>\n",
              "      <td>224</td>\n",
              "      <td>20016</td>\n",
              "      <td>LGQ</td>\n",
              "      <td>0</td>\n",
              "      <td>Passengers</td>\n",
              "      <td>0</td>\n",
              "      <td>2844.0</td>\n",
              "      <td>2844.0</td>\n",
              "    </tr>\n",
              "  </tbody>\n",
              "</table>\n",
              "<p>1000 rows × 16 columns</p>\n",
              "</div>\n",
              "      <button class=\"colab-df-convert\" onclick=\"convertToInteractive('df-41e46471-8be3-4619-a985-fc261bc0d10d')\"\n",
              "              title=\"Convert this dataframe to an interactive table.\"\n",
              "              style=\"display:none;\">\n",
              "        \n",
              "  <svg xmlns=\"http://www.w3.org/2000/svg\" height=\"24px\"viewBox=\"0 0 24 24\"\n",
              "       width=\"24px\">\n",
              "    <path d=\"M0 0h24v24H0V0z\" fill=\"none\"/>\n",
              "    <path d=\"M18.56 5.44l.94 2.06.94-2.06 2.06-.94-2.06-.94-.94-2.06-.94 2.06-2.06.94zm-11 1L8.5 8.5l.94-2.06 2.06-.94-2.06-.94L8.5 2.5l-.94 2.06-2.06.94zm10 10l.94 2.06.94-2.06 2.06-.94-2.06-.94-.94-2.06-.94 2.06-2.06.94z\"/><path d=\"M17.41 7.96l-1.37-1.37c-.4-.4-.92-.59-1.43-.59-.52 0-1.04.2-1.43.59L10.3 9.45l-7.72 7.72c-.78.78-.78 2.05 0 2.83L4 21.41c.39.39.9.59 1.41.59.51 0 1.02-.2 1.41-.59l7.78-7.78 2.81-2.81c.8-.78.8-2.07 0-2.86zM5.41 20L4 18.59l7.72-7.72 1.47 1.35L5.41 20z\"/>\n",
              "  </svg>\n",
              "      </button>\n",
              "      \n",
              "  <style>\n",
              "    .colab-df-container {\n",
              "      display:flex;\n",
              "      flex-wrap:wrap;\n",
              "      gap: 12px;\n",
              "    }\n",
              "\n",
              "    .colab-df-convert {\n",
              "      background-color: #E8F0FE;\n",
              "      border: none;\n",
              "      border-radius: 50%;\n",
              "      cursor: pointer;\n",
              "      display: none;\n",
              "      fill: #1967D2;\n",
              "      height: 32px;\n",
              "      padding: 0 0 0 0;\n",
              "      width: 32px;\n",
              "    }\n",
              "\n",
              "    .colab-df-convert:hover {\n",
              "      background-color: #E2EBFA;\n",
              "      box-shadow: 0px 1px 2px rgba(60, 64, 67, 0.3), 0px 1px 3px 1px rgba(60, 64, 67, 0.15);\n",
              "      fill: #174EA6;\n",
              "    }\n",
              "\n",
              "    [theme=dark] .colab-df-convert {\n",
              "      background-color: #3B4455;\n",
              "      fill: #D2E3FC;\n",
              "    }\n",
              "\n",
              "    [theme=dark] .colab-df-convert:hover {\n",
              "      background-color: #434B5C;\n",
              "      box-shadow: 0px 1px 3px 1px rgba(0, 0, 0, 0.15);\n",
              "      filter: drop-shadow(0px 1px 2px rgba(0, 0, 0, 0.3));\n",
              "      fill: #FFFFFF;\n",
              "    }\n",
              "  </style>\n",
              "\n",
              "      <script>\n",
              "        const buttonEl =\n",
              "          document.querySelector('#df-41e46471-8be3-4619-a985-fc261bc0d10d button.colab-df-convert');\n",
              "        buttonEl.style.display =\n",
              "          google.colab.kernel.accessAllowed ? 'block' : 'none';\n",
              "\n",
              "        async function convertToInteractive(key) {\n",
              "          const element = document.querySelector('#df-41e46471-8be3-4619-a985-fc261bc0d10d');\n",
              "          const dataTable =\n",
              "            await google.colab.kernel.invokeFunction('convertToInteractive',\n",
              "                                                     [key], {});\n",
              "          if (!dataTable) return;\n",
              "\n",
              "          const docLinkHtml = 'Like what you see? Visit the ' +\n",
              "            '<a target=\"_blank\" href=https://colab.research.google.com/notebooks/data_table.ipynb>data table notebook</a>'\n",
              "            + ' to learn more about interactive tables.';\n",
              "          element.innerHTML = '';\n",
              "          dataTable['output_type'] = 'display_data';\n",
              "          await google.colab.output.renderOutput(dataTable, element);\n",
              "          const docLink = document.createElement('div');\n",
              "          docLink.innerHTML = docLinkHtml;\n",
              "          element.appendChild(docLink);\n",
              "        }\n",
              "      </script>\n",
              "    </div>\n",
              "  </div>\n",
              "  "
            ]
          },
          "metadata": {},
          "execution_count": 18
        }
      ]
    },
    {
      "cell_type": "code",
      "source": [
        "data=df.head(1000)"
      ],
      "metadata": {
        "id": "s9IR6P0WBOBe"
      },
      "execution_count": null,
      "outputs": []
    },
    {
      "cell_type": "code",
      "source": [
        "data.shape"
      ],
      "metadata": {
        "colab": {
          "base_uri": "https://localhost:8080/"
        },
        "id": "VJYrC0j1BmjV",
        "outputId": "5760a2d7-caa0-41d7-e01d-8a1fca5bec91"
      },
      "execution_count": null,
      "outputs": [
        {
          "output_type": "execute_result",
          "data": {
            "text/plain": [
              "(1000, 16)"
            ]
          },
          "metadata": {},
          "execution_count": 26
        }
      ]
    },
    {
      "cell_type": "code",
      "source": [
        "data.Month.unique"
      ],
      "metadata": {
        "colab": {
          "base_uri": "https://localhost:8080/"
        },
        "id": "FZ4k1mWOBpX4",
        "outputId": "b8e79ce4-9983-491e-f642-ee94bc9a6057"
      },
      "execution_count": null,
      "outputs": [
        {
          "output_type": "execute_result",
          "data": {
            "text/plain": [
              "<bound method Series.unique of 0       5\n",
              "1       6\n",
              "2      12\n",
              "3       4\n",
              "4      12\n",
              "       ..\n",
              "995     6\n",
              "996    12\n",
              "997     4\n",
              "998     2\n",
              "999     4\n",
              "Name: Month, Length: 1000, dtype: int64>"
            ]
          },
          "metadata": {},
          "execution_count": 27
        }
      ]
    },
    {
      "cell_type": "code",
      "source": [
        "A.isnull().sum()"
      ],
      "metadata": {
        "colab": {
          "base_uri": "https://localhost:8080/"
        },
        "id": "B9vs7voaCEgf",
        "outputId": "2cd7d740-b26e-486e-8cff-161059299d70"
      },
      "execution_count": null,
      "outputs": [
        {
          "output_type": "execute_result",
          "data": {
            "text/plain": [
              "data_dte         0\n",
              "Year             0\n",
              "Month            0\n",
              "usg_apt_id       0\n",
              "usg_apt          0\n",
              "usg_wac          0\n",
              "fg_apt_id        0\n",
              "fg_apt           0\n",
              "fg_wac           0\n",
              "airlineid        0\n",
              "carrier         18\n",
              "carriergroup     0\n",
              "type             0\n",
              "Scheduled        0\n",
              "Charter          0\n",
              "Total            0\n",
              "dtype: int64"
            ]
          },
          "metadata": {},
          "execution_count": 22
        }
      ]
    },
    {
      "cell_type": "code",
      "source": [
        "data.notnull().sum()"
      ],
      "metadata": {
        "colab": {
          "base_uri": "https://localhost:8080/"
        },
        "id": "6APrEyNhCuWt",
        "outputId": "e7150907-fad4-43bc-9d54-9798cc37a052"
      },
      "execution_count": null,
      "outputs": [
        {
          "output_type": "execute_result",
          "data": {
            "text/plain": [
              "data_dte        1000\n",
              "Year            1000\n",
              "Month           1000\n",
              "usg_apt_id      1000\n",
              "usg_apt         1000\n",
              "usg_wac         1000\n",
              "fg_apt_id       1000\n",
              "fg_apt          1000\n",
              "fg_wac          1000\n",
              "airlineid       1000\n",
              "carrier          982\n",
              "carriergroup    1000\n",
              "type            1000\n",
              "Scheduled       1000\n",
              "Charter         1000\n",
              "Total           1000\n",
              "dtype: int64"
            ]
          },
          "metadata": {},
          "execution_count": 28
        }
      ]
    },
    {
      "cell_type": "code",
      "source": [
        "data.plot"
      ],
      "metadata": {
        "colab": {
          "base_uri": "https://localhost:8080/"
        },
        "id": "q2towZkWDVVQ",
        "outputId": "74076df9-11ef-4102-ce5c-db025fa38e1c"
      },
      "execution_count": null,
      "outputs": [
        {
          "output_type": "execute_result",
          "data": {
            "text/plain": [
              "<pandas.plotting._core.PlotAccessor object at 0x7f63589b5f90>"
            ]
          },
          "metadata": {},
          "execution_count": 29
        }
      ]
    },
    {
      "cell_type": "code",
      "source": [
        "import matplotlib.pyplot as plt\n"
      ],
      "metadata": {
        "id": "UupNp1kTEDvZ"
      },
      "execution_count": null,
      "outputs": []
    },
    {
      "cell_type": "code",
      "source": [
        "x=data.fg_apt_id\n",
        "z= data.Scheduled\n",
        "plt.scatter(x,z)\n",
        "\n",
        "plt.scatter(x, z)\n",
        "plt.scatter(z,x)\n",
        " \n",
        "plt.show()"
      ],
      "metadata": {
        "colab": {
          "base_uri": "https://localhost:8080/",
          "height": 265
        },
        "id": "Opalpb9bEKyL",
        "outputId": "29cdd99e-ef90-4391-a1b0-f9c2000629d2"
      },
      "execution_count": null,
      "outputs": [
        {
          "output_type": "display_data",
          "data": {
            "text/plain": [
              "<Figure size 432x288 with 1 Axes>"
            ],
            "image/png": "[encoded data removed]"
          },
          "metadata": {
            "needs_background": "light"
          }
        }
      ]
    },
    {
      "cell_type": "code",
      "source": [
        "A=df.head(15)   # pie chart for 15 data\n",
        "x=A.Year \n",
        "plt.pie(x)\n",
        "plt.show()"
      ],
      "metadata": {
        "colab": {
          "base_uri": "https://localhost:8080/",
          "height": 248
        },
        "id": "AgOX1tu_IeqH",
        "outputId": "244d6ebc-7e89-43be-8ed5-7142605fb0ad"
      },
      "execution_count": null,
      "outputs": [
        {
          "output_type": "display_data",
          "data": {
            "text/plain": [
              "<Figure size 432x288 with 1 Axes>"
            ],
            "image/png": "[encoded data removed]"
          },
          "metadata": {}
        }
      ]
    },
    {
      "cell_type": "code",
      "source": [
        "x=data.Month      # pie chart for 1000 data\n",
        "plt.pie(x)\n",
        "plt.show()"
      ],
      "metadata": {
        "colab": {
          "base_uri": "https://localhost:8080/",
          "height": 248
        },
        "id": "gTxUmaYEIdEU",
        "outputId": "3c2ca596-4819-4535-9daf-02207874eb58"
      },
      "execution_count": null,
      "outputs": [
        {
          "output_type": "display_data",
          "data": {
            "text/plain": [
              "<Figure size 432x288 with 1 Axes>"
            ],
            "image/png": "[encoded data removed]"
          },
          "metadata": {}
        }
      ]
    },
    {
      "cell_type": "code",
      "source": [
        "x=data.Month\n",
        "y=data.Year\n",
        "plt.plot(x,y)\n",
        "plt.show()"
      ],
      "metadata": {
        "colab": {
          "base_uri": "https://localhost:8080/",
          "height": 265
        },
        "id": "gh2atjjuJ3Vu",
        "outputId": "6273e61d-7d0c-49cc-c00e-c4f242c366e3"
      },
      "execution_count": null,
      "outputs": [
        {
          "output_type": "display_data",
          "data": {
            "text/plain": [
              "<Figure size 432x288 with 1 Axes>"
            ],
            "image/png": "[encoded data removed]"
          },
          "metadata": {
            "needs_background": "light"
          }
        }
      ]
    },
    {
      "cell_type": "code",
      "source": [
        "plt.bar(x,y)\n",
        "plt.show()"
      ],
      "metadata": {
        "colab": {
          "base_uri": "https://localhost:8080/",
          "height": 265
        },
        "id": "DqXdG8WkKO_T",
        "outputId": "4016f278-73c3-4a8f-cdfd-4f4efaf9b27c"
      },
      "execution_count": null,
      "outputs": [
        {
          "output_type": "display_data",
          "data": {
            "text/plain": [
              "<Figure size 432x288 with 1 Axes>"
            ],
            "image/png": "[encoded data removed]"
          },
          "metadata": {
            "needs_background": "light"
          }
        }
      ]
    },
    {
      "cell_type": "code",
      "source": [
        "plt.stem(x,y)\n",
        "plt.show()"
      ],
      "metadata": {
        "colab": {
          "base_uri": "https://localhost:8080/",
          "height": 320
        },
        "id": "jNyfP2ajKfDk",
        "outputId": "998da410-53a1-48f0-9893-649f4f43951e"
      },
      "execution_count": null,
      "outputs": [
        {
          "output_type": "stream",
          "name": "stderr",
          "text": [
            "/usr/local/lib/python3.7/dist-packages/ipykernel_launcher.py:1: UserWarning: In Matplotlib 3.3 individual lines on a stem plot will be added as a LineCollection instead of individual lines. This significantly improves the performance of a stem plot. To remove this warning and switch to the new behaviour, set the \"use_line_collection\" keyword argument to True.\n",
            "  \"\"\"Entry point for launching an IPython kernel.\n"
          ]
        },
        {
          "output_type": "display_data",
          "data": {
            "text/plain": [
              "<Figure size 432x288 with 1 Axes>"
            ],
            "image/png": "[encoded data removed]"
          },
          "metadata": {
            "needs_background": "light"
          }
        }
      ]
    },
    {
      "cell_type": "code",
      "source": [
        "plt.hist(x)\n",
        "plt.show()"
      ],
      "metadata": {
        "colab": {
          "base_uri": "https://localhost:8080/",
          "height": 265
        },
        "id": "UAtap2phM-zk",
        "outputId": "e58cf1fc-3f6b-4d2b-c2ef-7a6e81a2d90e"
      },
      "execution_count": null,
      "outputs": [
        {
          "output_type": "display_data",
          "data": {
            "text/plain": [
              "<Figure size 432x288 with 1 Axes>"
            ],
            "image/png": "[encoded data removed]"
          },
          "metadata": {
            "needs_background": "light"
          }
        }
      ]
    },
    {
      "cell_type": "code",
      "source": [
        "plt.polar(x,y)\n",
        "plt.show()"
      ],
      "metadata": {
        "colab": {
          "base_uri": "https://localhost:8080/",
          "height": 286
        },
        "id": "81ycvD_wN9-w",
        "outputId": "4efb7c0b-4c15-4370-9011-579be3349466"
      },
      "execution_count": null,
      "outputs": [
        {
          "output_type": "display_data",
          "data": {
            "text/plain": [
              "<Figure size 432x288 with 1 Axes>"
            ],
            "image/png": "[encoded data removed]"
          },
          "metadata": {
            "needs_background": "light"
          }
        }
      ]
    },
    {
      "cell_type": "code",
      "source": [
        "import numpy as np\n",
        "import matplotlib.pyplot as plt\n",
        "\n",
        "# Create data\n",
        "x=data.Month\n",
        "y=data.Year\n",
        "\n",
        "# Area plot\n",
        "plt.fill_between(x, y)\n",
        "plt.show()\n"
      ],
      "metadata": {
        "colab": {
          "base_uri": "https://localhost:8080/",
          "height": 265
        },
        "id": "B192fmo1PC4x",
        "outputId": "48d6c7fb-0269-4354-862d-699ca8d9a4b0"
      },
      "execution_count": null,
      "outputs": [
        {
          "output_type": "display_data",
          "data": {
            "text/plain": [
              "<Figure size 432x288 with 1 Axes>"
            ],
            "image/png": "[encoded data removed]"
          },
          "metadata": {
            "needs_background": "light"
          }
        }
      ]
    },
    {
      "cell_type": "code",
      "source": [
        "import matplotlib.pyplot as plt\n",
        "import numpy as np\n",
        " \n",
        " \n",
        "# Creating dataset\n",
        "np.random.seed(10)\n",
        "data = df.Year\n",
        " \n",
        "fig = plt.figure(figsize =(10, 7))\n",
        " \n",
        "# Creating plot\n",
        "plt.boxplot(data)\n",
        " \n",
        "# show plot\n",
        "plt.show()\n",
        " "
      ],
      "metadata": {
        "colab": {
          "base_uri": "https://localhost:8080/",
          "height": 428
        },
        "id": "8mFdENH6bNNL",
        "outputId": "fbbace26-d597-41ff-f099-dbc33c9e5508"
      },
      "execution_count": null,
      "outputs": [
        {
          "output_type": "display_data",
          "data": {
            "text/plain": [
              "<Figure size 720x504 with 1 Axes>"
            ],
            "image/png": "[encoded data removed]"
          },
          "metadata": {
            "needs_background": "light"
          }
        }
      ]
    }
  ]
}